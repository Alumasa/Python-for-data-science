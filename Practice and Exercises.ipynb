{
 "cells": [
  {
   "cell_type": "code",
   "execution_count": 8,
   "metadata": {},
   "outputs": [
    {
     "name": "stdout",
     "output_type": "stream",
     "text": [
      "<generator object to_upper at 0x000001A597497930>\n",
      "['THOR', 'HULK']\n"
     ]
    }
   ],
   "source": [
    "superhero_list = [\"Thor\", \"Hulk\"]\n",
    "def to_upper(x):\n",
    "    for i in x:\n",
    "        yield i.upper()\n",
    "# the yield key word returns a generator object\n",
    "print(to_upper(superhero_list))\n",
    "print(list(to_upper(superhero_list)))\n"
   ]
  },
  {
   "cell_type": "code",
   "execution_count": 9,
   "metadata": {},
   "outputs": [
    {
     "ename": "TypeError",
     "evalue": "'int' object is not iterable",
     "output_type": "error",
     "traceback": [
      "\u001b[1;31m---------------------------------------------------------------------------\u001b[0m",
      "\u001b[1;31mTypeError\u001b[0m                                 Traceback (most recent call last)",
      "\u001b[1;32m<ipython-input-9-90f1a535a165>\u001b[0m in \u001b[0;36m<module>\u001b[1;34m\u001b[0m\n\u001b[0;32m      1\u001b[0m \u001b[0mx\u001b[0m \u001b[1;33m=\u001b[0m \u001b[1;36m123\u001b[0m\u001b[1;33m\u001b[0m\u001b[1;33m\u001b[0m\u001b[0m\n\u001b[1;32m----> 2\u001b[1;33m \u001b[0mprint\u001b[0m\u001b[1;33m(\u001b[0m\u001b[1;33m[\u001b[0m\u001b[0my\u001b[0m \u001b[1;33m*\u001b[0m \u001b[1;36m2\u001b[0m \u001b[1;32mfor\u001b[0m \u001b[0my\u001b[0m \u001b[1;32min\u001b[0m \u001b[0mx\u001b[0m\u001b[1;33m]\u001b[0m\u001b[1;33m)\u001b[0m\u001b[1;33m\u001b[0m\u001b[1;33m\u001b[0m\u001b[0m\n\u001b[0m",
      "\u001b[1;31mTypeError\u001b[0m: 'int' object is not iterable"
     ]
    }
   ],
   "source": [
    "x = 123\n",
    "print([y * 2 for y in x])\n",
    "# x is an integer\n",
    "#TypeError"
   ]
  },
  {
   "cell_type": "code",
   "execution_count": 20,
   "metadata": {},
   "outputs": [
    {
     "name": "stdout",
     "output_type": "stream",
     "text": [
      "{2: 4, 4: 16, 1: 1, 5: 25}\n"
     ]
    }
   ],
   "source": [
    "x = [2, 4, 1, 5]\n",
    "#x.sort()\n",
    "#print(x)\n",
    "squares = {y: y ** 2 for y in x}\n",
    "print(squares)\n",
    "#dictionaries are inherently unordered"
   ]
  },
  {
   "cell_type": "code",
   "execution_count": 29,
   "metadata": {},
   "outputs": [
    {
     "name": "stdout",
     "output_type": "stream",
     "text": [
      "[(2, 'Thor Odison'), (3, 'Steve Rodgers')]\n"
     ]
    }
   ],
   "source": [
    "names = [\"Thor Odison\", \"Steve Rodgers\"]\n",
    "avengers = enumerate(names, start = 2)\n",
    "print(list(avengers))"
   ]
  },
  {
   "cell_type": "code",
   "execution_count": null,
   "metadata": {},
   "outputs": [],
   "source": [
    "df = data.parse(1, parse_cols = [0], skiprows = \"0\", names = ['Country'])\n",
    "print(df.head())\n"
   ]
  },
  {
   "cell_type": "code",
   "execution_count": null,
   "metadata": {},
   "outputs": [],
   "source": [
    "#A MATLAB structure: keys are equivalent to MATLAB variable names, values are equivalent to objects assigned to variables"
   ]
  },
  {
   "cell_type": "code",
   "execution_count": null,
   "metadata": {},
   "outputs": [],
   "source": [
    "#np.loadtxt(filename, delimiter = ',') is the least suitable when importing a flatfile containing different data types"
   ]
  },
  {
   "cell_type": "code",
   "execution_count": null,
   "metadata": {},
   "outputs": [],
   "source": [
    "s = pd.read_csv('stores.csv', header = None)\n",
    "print(s)"
   ]
  },
  {
   "cell_type": "code",
   "execution_count": null,
   "metadata": {},
   "outputs": [],
   "source": [
    "#to import SAS files, use:\n",
    "from sas7bdat import SAS7BDAT\n"
   ]
  },
  {
   "cell_type": "code",
   "execution_count": 1,
   "metadata": {},
   "outputs": [
    {
     "name": "stdout",
     "output_type": "stream",
     "text": [
      "❤️\n",
      "🔥\n",
      "🤷\n"
     ]
    }
   ],
   "source": [
    "heart = '❤️' \n",
    "fire = '🔥' \n",
    "shrug = '🤷'\n",
    "\n",
    "print(heart) \n",
    "print(fire) \n",
    "print(shrug)"
   ]
  },
  {
   "cell_type": "code",
   "execution_count": 2,
   "metadata": {},
   "outputs": [
    {
     "name": "stdout",
     "output_type": "stream",
     "text": [
      "Emoji share:\n",
      "0.1%\n",
      "1.1%\n",
      "1.5%\n",
      "13.5%\n",
      "0.9%\n",
      "1.3%\n",
      "3.8%\n",
      "5.1%\n",
      "0.4%\n",
      "0.3%\n",
      "\n",
      "Total emojis: 1.72 billion\n"
     ]
    }
   ],
   "source": [
    "emojixpress = [2.26, 19.1, 25.6, 233.0, 15.2, 22.7, 64.6, 87.5, 6.81, 6.0]\n",
    "\n",
    "# total of all emojis in millions\n",
    "\n",
    "emojixpress_total = 1720\n",
    "\n",
    "print(\"Emoji share:\") \n",
    "# < create loop using list emojixpress >\n",
    "for each in emojixpress:\n",
    "    part = each / emojixpress_total # < divide the quantity of a specific emoji by the total quantity of all emojis > \n",
    "    print('{:.1%}'.format(part)) # input the variable part in place of the ellipsis\n",
    "\n",
    "print()\n",
    "print('Total emojis: 1.72 billion')"
   ]
  },
  {
   "cell_type": "code",
   "execution_count": 3,
   "metadata": {},
   "outputs": [
    {
     "name": "stdout",
     "output_type": "stream",
     "text": [
      "Share of chosen emojis on Twitter: 39.0%\n"
     ]
    }
   ],
   "source": [
    "twitter = [ \n",
    "    87.3, 150, 0.0, 2270.0, 264.0, 565.0, 834.0, 432.0, 0.0, 478.0, \n",
    "    198.0, 654.0, 98.7, 445.0, 1080.0, 697.0, 227.0, 0.0, 150.0, 932.0\n",
    "] \n",
    "twitter_total = 24500\n",
    "\n",
    "# < write code here >\n",
    "selected_total = 0\n",
    "for count in twitter:\n",
    "    selected_total += count\n",
    "\n",
    "selected_part = selected_total / twitter_total# < write code here > \n",
    "print('Share of chosen emojis on Twitter: {:.1%}'.format(selected_part))"
   ]
  },
  {
   "cell_type": "code",
   "execution_count": 4,
   "metadata": {},
   "outputs": [
    {
     "name": "stdout",
     "output_type": "stream",
     "text": [
      "7.31\n"
     ]
    }
   ],
   "source": [
    "data = [\n",
    "    ['Grinning', 2.26, 1.02, 87.3], \n",
    "    ['Beaming', 19.1, 1.69, 150.0], \n",
    "    ['ROFL', 25.6, 0.774, 0.0], \n",
    "    ['Tears of Joy', 233.0, 7.31, 2270.0], \n",
    "    ['Winking', 15.2, 2.36, 264.0]\n",
    "]\n",
    "\n",
    "# < write code here >\n",
    "print(data[3][2])"
   ]
  },
  {
   "cell_type": "code",
   "execution_count": 5,
   "metadata": {},
   "outputs": [
    {
     "name": "stdout",
     "output_type": "stream",
     "text": [
      "— Mean values —\n",
      "\n",
      "EmojiXpress, mil. | Instagram, mil. | Twitter, mil.\n",
      "————————————————\n",
      "     34.73       |      4.13      |    478.10   \n"
     ]
    }
   ],
   "source": [
    "data = [ \n",
    "    ['Grinning', 2.26, 1.02, 87.3], \n",
    "    ['Beaming', 19.1, 1.69, 150.0], \n",
    "    ['ROFL', 25.6, 0.774, 0.0], \n",
    "    ['Tears of Joy', 233.0, 7.31, 2270.0], \n",
    "    ['Winking', 15.2, 2.36, 264.0], \n",
    "    ['Happy', 22.7, 4.26, 565.0], \n",
    "    ['Heart Eyes', 64.6, 11.2, 834.0], \n",
    "    ['Kissing', 87.5, 5.13, 432.0], \n",
    "    ['Thinking', 6.81, 0.636, 0.0], \n",
    "    ['Unamused', 6.0, 0.236, 478.0], \n",
    "    ['Sunglasses', 4.72, 3.93, 198.0], \n",
    "    ['Loudly Crying', 24.7, 1.35, 654.0], \n",
    "    ['Kiss Mark', 21.7, 2.87, 98.7], \n",
    "    ['Two Hearts', 10.0, 5.69, 445.0], \n",
    "    ['Heart', 118.0, 26.0, 1080.0], \n",
    "    ['Heart Suit', 3.31, 1.82, 697.0], \n",
    "    ['Thumbs Up', 23.1, 3.75, 227.0], \n",
    "    ['Shrugging', 1.74, 0.11, 0.0], \n",
    "    ['Fire', 4.5, 2.49, 150.0], \n",
    "    ['Recycle', 0.0333, 0.056, 932.0]\n",
    "]\n",
    "\n",
    "sum_emojixpress = 0 \n",
    "for row in data: \n",
    "    sum_emojixpress += row[1] \n",
    "    mean_emojixpress = sum_emojixpress / len(data)\n",
    "\n",
    "# < write code here >\n",
    "sum_instagram = 0 \n",
    "for row in data: \n",
    "    sum_instagram += row[2] \n",
    "mean_instagram = sum_instagram / len(data)\n",
    "    \n",
    "sum_twitter = 0 \n",
    "for row in data: \n",
    "    sum_twitter += row[3] \n",
    "mean_twitter = sum_twitter / len(data)\n",
    "\n",
    "print('— Mean values —') \n",
    "print() \n",
    "print('EmojiXpress, mil. | Instagram, mil. | Twitter, mil.') \n",
    "print('————————————————') \n",
    "# Pay attention to the formatting of the long string of code. Inside # parentheses in the function call you can place string breaks. \n",
    "print('{: ^16.2f} | {: ^14.2f} | {: ^12.2f}'.format( mean_emojixpress, mean_instagram, mean_twitter))\n"
   ]
  },
  {
   "cell_type": "code",
   "execution_count": 6,
   "metadata": {},
   "outputs": [
    {
     "name": "stdout",
     "output_type": "stream",
     "text": [
      "Emoji name | Twitter/Instagram ratio\n",
      "————————————————\n",
      "Grinning         |                         85.59\n",
      "Beaming          |                         88.76\n",
      "ROFL             |                          0.00\n",
      "Tears of Joy     |                        310.53\n",
      "Winking          |                        111.86\n",
      "Happy            |                        132.63\n",
      "Heart Eyes       |                         74.46\n",
      "Kissing          |                         84.21\n",
      "Thinking         |                          0.00\n",
      "Unamused         |                       2025.42\n",
      "Sunglasses       |                         50.38\n",
      "Loudly Crying    |                        484.44\n",
      "Kiss Mark        |                         34.39\n",
      "Two Hearts       |                         78.21\n",
      "Heart            |                         41.54\n",
      "Heart Suit       |                        382.97\n",
      "Thumbs Up        |                         60.53\n",
      "Shrugging        |                          0.00\n",
      "Fire             |                         60.24\n",
      "Recycle          |                      16642.86\n"
     ]
    }
   ],
   "source": [
    "data = [ \n",
    "    ['Grinning', 2.26, 1.02, 87.3], \n",
    "    ['Beaming', 19.1, 1.69, 150.0], \n",
    "    ['ROFL', 25.6, 0.774, 0.0], \n",
    "    ['Tears of Joy', 233.0, 7.31, 2270.0], \n",
    "    ['Winking', 15.2, 2.36, 264.0], \n",
    "    ['Happy', 22.7, 4.26, 565.0], \n",
    "    ['Heart Eyes', 64.6, 11.2, 834.0], \n",
    "    ['Kissing', 87.5, 5.13, 432.0], \n",
    "    ['Thinking', 6.81, 0.636, 0.0], \n",
    "    ['Unamused', 6.0, 0.236, 478.0], \n",
    "    ['Sunglasses', 4.72, 3.93, 198.0], \n",
    "    ['Loudly Crying', 24.7, 1.35, 654.0], \n",
    "    ['Kiss Mark', 21.7, 2.87, 98.7], \n",
    "    ['Two Hearts', 10.0, 5.69, 445.0], \n",
    "    ['Heart', 118.0, 26.0, 1080.0], \n",
    "    ['Heart Suit', 3.31, 1.82, 697.0], \n",
    "    ['Thumbs Up', 23.1, 3.75, 227.0], \n",
    "    ['Shrugging', 1.74, 0.11, 0.0], \n",
    "    ['Fire', 4.5, 2.49, 150.0], \n",
    "    ['Recycle', 0.0333, 0.056, 932.0]\n",
    "]\n",
    "\n",
    "print('Emoji name | Twitter/Instagram ratio') \n",
    "print('————————————————') \n",
    "for row in data: \n",
    "    # < write code here >\n",
    "    ratio = row[3] / row[2]\n",
    "    print('{: <16} | {: >29.2f}'.format(row[0], ratio)) # write the code in place of the ellipsis"
   ]
  },
  {
   "cell_type": "code",
   "execution_count": 7,
   "metadata": {},
   "outputs": [
    {
     "name": "stdout",
     "output_type": "stream",
     "text": [
      "| Name | EmojiXpress, mil. | Instagram, mil. | Twitter, mil. | "
     ]
    }
   ],
   "source": [
    "header = [\n",
    "        'Name', 'EmojiXpress, mil.', 'Instagram, mil.', 'Twitter, mil.'\n",
    "]\n",
    "\n",
    "# < write code here >\n",
    "print('| ', end='')\n",
    "for each in header:\n",
    "    print(each, end='')\n",
    "    print(' | ', end='')"
   ]
  },
  {
   "cell_type": "code",
   "execution_count": 8,
   "metadata": {},
   "outputs": [
    {
     "name": "stdout",
     "output_type": "stream",
     "text": [
      "Beaming\n",
      "Fire\n",
      "Grinning\n",
      "Happy\n",
      "Heart\n",
      "Heart Eyes\n",
      "Heart Suit\n",
      "Kiss Mark\n",
      "Kissing\n",
      "Loudly Crying\n",
      "ROFL\n",
      "Recycle\n",
      "Shrugging\n",
      "Sunglasses\n",
      "Tears of Joy\n",
      "Thinking\n",
      "Thumbs Up\n",
      "Two Hearts\n",
      "Unamused\n",
      "Winking\n"
     ]
    }
   ],
   "source": [
    "emoji_names = [\n",
    "    'Grinning', 'Beaming', 'ROFL', 'Tears of Joy',\n",
    "    'Winking', 'Happy', 'Heart Eyes', 'Kissing', \n",
    "    'Thinking', 'Unamused', 'Sunglasses', 'Loudly Crying', \n",
    "    'Kiss Mark', 'Two Hearts', 'Heart', 'Heart Suit', \n",
    "    'Thumbs Up', 'Shrugging', 'Fire', 'Recycle'\n",
    "]\n",
    "\n",
    "# < write code here >\n",
    "emoji_names.sort()\n",
    "for each in emoji_names:\n",
    "    print(each)"
   ]
  },
  {
   "cell_type": "code",
   "execution_count": 9,
   "metadata": {
    "collapsed": true
   },
   "outputs": [
    {
     "name": "stdout",
     "output_type": "stream",
     "text": [
      "2270.0\n",
      "1080.0\n",
      "932.0\n",
      "834.0\n",
      "697.0\n",
      "654.0\n",
      "565.0\n",
      "478.0\n",
      "445.0\n",
      "432.0\n",
      "264.0\n",
      "227.0\n",
      "198.0\n",
      "150\n",
      "150.0\n",
      "98.7\n",
      "87.3\n",
      "0.0\n",
      "0.0\n",
      "0.0\n"
     ]
    }
   ],
   "source": [
    "twitter = [\n",
    "    87.3, 150, 0.0, 2270.0, 264.0, 565.0, 834.0, 432.0, 0.0, 478.0, \n",
    "    198.0, 654.0, 98.7, 445.0, 1080.0, 697.0, 227.0, 0.0, 150.0, 932.0\n",
    "]\n",
    "\n",
    "# < write code here >\n",
    "twitter.sort(reverse=True)\n",
    "for each in twitter:\n",
    "    print(each)"
   ]
  },
  {
   "cell_type": "code",
   "execution_count": 10,
   "metadata": {},
   "outputs": [
    {
     "name": "stdout",
     "output_type": "stream",
     "text": [
      "Emoji name       | EmojiXpress, mil.| Instagram, mil.| Twitter, mil.\n",
      "-------------------------------------------------------------------\n",
      "Heart            |           118.00 |          26.00 |      1080.00\n",
      "Heart Eyes       |            64.60 |          11.20 |       834.00\n",
      "Tears of Joy     |           233.00 |           7.31 |      2270.00\n",
      "Two Hearts       |            10.00 |           5.69 |       445.00\n",
      "Kissing          |            87.50 |           5.13 |       432.00\n",
      "Happy            |            22.70 |           4.26 |       565.00\n",
      "Sunglasses       |             4.72 |           3.93 |       198.00\n",
      "Thumbs Up        |            23.10 |           3.75 |       227.00\n",
      "Kiss Mark        |            21.70 |           2.87 |        98.70\n",
      "Fire             |             4.50 |           2.49 |       150.00\n",
      "Winking          |            15.20 |           2.36 |       264.00\n",
      "Heart Suit       |             3.31 |           1.82 |       697.00\n",
      "Beaming          |            19.10 |           1.69 |       150.00\n",
      "Loudly Crying    |            24.70 |           1.35 |       654.00\n",
      "Grinning         |             2.26 |           1.02 |        87.30\n",
      "ROFL             |            25.60 |           0.77 |         0.00\n",
      "Thinking         |             6.81 |           0.64 |         0.00\n",
      "Unamused         |             6.00 |           0.24 |       478.00\n",
      "Shrugging        |             1.74 |           0.11 |         0.00\n",
      "Recycle          |             0.03 |           0.06 |       932.00\n"
     ]
    }
   ],
   "source": [
    "data = [\n",
    "    ['Grinning', 2.26, 1.02, 87.3],\n",
    "    ['Beaming', 19.1, 1.69, 150.0],\n",
    "    ['ROFL', 25.6, 0.774, 0.0],\n",
    "    ['Tears of Joy', 233.0, 7.31, 2270.0],\n",
    "    ['Winking', 15.2, 2.36, 264.0],\n",
    "    ['Happy', 22.7, 4.26, 565.0],\n",
    "    ['Heart Eyes', 64.6, 11.2, 834.0],\n",
    "    ['Kissing', 87.5, 5.13, 432.0],\n",
    "    ['Thinking', 6.81, 0.636, 0.0],\n",
    "    ['Unamused', 6.0, 0.236, 478.0],\n",
    "    ['Sunglasses', 4.72, 3.93, 198.0],\n",
    "    ['Loudly Crying', 24.7, 1.35, 654.0],\n",
    "    ['Kiss Mark', 21.7, 2.87, 98.7],\n",
    "    ['Two Hearts', 10.0, 5.69, 445.0],\n",
    "    ['Heart', 118.0, 26.0, 1080.0],\n",
    "    ['Heart Suit', 3.31, 1.82, 697.0],\n",
    "    ['Thumbs Up', 23.1, 3.75, 227.0],\n",
    "    ['Shrugging', 1.74, 0.11, 0.0],\n",
    "    ['Fire', 4.5, 2.49, 150.0],\n",
    "    ['Recycle', 0.0333, 0.056, 932.0]\n",
    "]\n",
    "\n",
    "# < write code here >\n",
    "data.sort(key = lambda row: row[2], reverse=True)\n",
    "\n",
    "print(\"Emoji name       | EmojiXpress, mil.|\", end='')\n",
    "print(' Instagram, mil.| Twitter, mil.')\n",
    "print('-------------------------------------', end='')\n",
    "print('------------------------------')\n",
    "for row in data:\n",
    "    print('{: <16} | {: >16.2f} | {: >14.2f} | {: >12.2f}'.format(\n",
    "        row[0], row[1], row[2], row[3]))"
   ]
  },
  {
   "cell_type": "code",
   "execution_count": 11,
   "metadata": {},
   "outputs": [
    {
     "name": "stdout",
     "output_type": "stream",
     "text": [
      "Emoji name       | EmojiXpress, mil.| Instagram, mil.| Twitter, mil.\n",
      "-------------------------------------------------------------------\n",
      "Tears of Joy     |           233.00 |           7.31 |      2270.00\n",
      "Heart            |           118.00 |          26.00 |      1080.00\n",
      "Recycle          |             0.03 |           0.06 |       932.00\n",
      "Heart Eyes       |            64.60 |          11.20 |       834.00\n",
      "Heart Suit       |             3.31 |           1.82 |       697.00\n",
      "Loudly Crying    |            24.70 |           1.35 |       654.00\n",
      "Happy            |            22.70 |           4.26 |       565.00\n",
      "Unamused         |             6.00 |           0.24 |       478.00\n",
      "Two Hearts       |            10.00 |           5.69 |       445.00\n",
      "Kissing          |            87.50 |           5.13 |       432.00\n",
      "Winking          |            15.20 |           2.36 |       264.00\n",
      "Thumbs Up        |            23.10 |           3.75 |       227.00\n",
      "Sunglasses       |             4.72 |           3.93 |       198.00\n",
      "Beaming          |            19.10 |           1.69 |       150.00\n",
      "Fire             |             4.50 |           2.49 |       150.00\n",
      "Kiss Mark        |            21.70 |           2.87 |        98.70\n",
      "Grinning         |             2.26 |           1.02 |        87.30\n",
      "ROFL             |            25.60 |           0.77 |         0.00\n",
      "Thinking         |             6.81 |           0.64 |         0.00\n",
      "Shrugging        |             1.74 |           0.11 |         0.00\n"
     ]
    }
   ],
   "source": [
    "data = [\n",
    "    ['Grinning', 2.26, 1.02, 87.3],\n",
    "    ['Beaming', 19.1, 1.69, 150.0],\n",
    "    ['ROFL', 25.6, 0.774, 0.0],\n",
    "    ['Tears of Joy', 233.0, 7.31, 2270.0],\n",
    "    ['Winking', 15.2, 2.36, 264.0],\n",
    "    ['Happy', 22.7, 4.26, 565.0],\n",
    "    ['Heart Eyes', 64.6, 11.2, 834.0],\n",
    "    ['Kissing', 87.5, 5.13, 432.0],\n",
    "    ['Thinking', 6.81, 0.636, 0.0],\n",
    "    ['Unamused', 6.0, 0.236, 478.0],\n",
    "    ['Sunglasses', 4.72, 3.93, 198.0],\n",
    "    ['Loudly Crying', 24.7, 1.35, 654.0],\n",
    "    ['Kiss Mark', 21.7, 2.87, 98.7],\n",
    "    ['Two Hearts', 10.0, 5.69, 445.0],\n",
    "    ['Heart', 118.0, 26.0, 1080.0],\n",
    "    ['Heart Suit', 3.31, 1.82, 697.0],\n",
    "    ['Thumbs Up', 23.1, 3.75, 227.0],\n",
    "    ['Shrugging', 1.74, 0.11, 0.0],\n",
    "    ['Fire', 4.5, 2.49, 150.0],\n",
    "    ['Recycle', 0.0333, 0.056, 932.0]\n",
    "]\n",
    "\n",
    "# < write code here >\n",
    "data.sort(key = lambda row: row[3], reverse=True)\n",
    "\n",
    "print(\"Emoji name       | EmojiXpress, mil.|\", end='')\n",
    "print(' Instagram, mil.| Twitter, mil.')\n",
    "print('-------------------------------------', end='')\n",
    "print('------------------------------')\n",
    "for row in data:\n",
    "    print('{: <16} | {: >16.2f} | {: >14.2f} | {: >12.2f}'.format(\n",
    "        row[0], row[1], row[2], row[3]))"
   ]
  },
  {
   "cell_type": "code",
   "execution_count": 12,
   "metadata": {
    "scrolled": true
   },
   "outputs": [
    {
     "name": "stdout",
     "output_type": "stream",
     "text": [
      "Emoji name       | EmojiXpress, mil.\n",
      "-----------------------------------\n",
      "Tears of Joy     |           233.00\n",
      "Heart            |           118.00\n",
      "Kissing          |            87.50\n",
      "Heart Eyes       |            64.60\n",
      "ROFL             |            25.60\n",
      "\n",
      "\n",
      "Emoji name       | Instagram, mil.\n",
      "---------------------------------\n",
      "Heart            |          26.00\n",
      "Heart Eyes       |          11.20\n",
      "Tears of Joy     |           7.31\n",
      "Two Hearts       |           5.69\n",
      "Kissing          |           5.13\n",
      "\n",
      "\n",
      "Emoji name       | Twitter, mil.\n",
      "-------------------------------\n",
      "Tears of Joy     |      2270.00\n",
      "Heart            |      1080.00\n",
      "Recycle          |       932.00\n",
      "Heart Eyes       |       834.00\n",
      "Heart Suit       |       697.00\n",
      "\n",
      "\n"
     ]
    }
   ],
   "source": [
    "data = [\n",
    "    ['Grinning', 2.26, 1.02, 87.3],\n",
    "    ['Beaming', 19.1, 1.69, 150.0],\n",
    "    ['ROFL', 25.6, 0.774, 0.0],\n",
    "    ['Tears of Joy', 233.0, 7.31, 2270.0],\n",
    "    ['Winking', 15.2, 2.36, 264.0],\n",
    "    ['Happy', 22.7, 4.26, 565.0],\n",
    "    ['Heart Eyes', 64.6, 11.2, 834.0],\n",
    "    ['Kissing', 87.5, 5.13, 432.0],\n",
    "    ['Thinking', 6.81, 0.636, 0.0],\n",
    "    ['Unamused', 6.0, 0.236, 478.0],\n",
    "    ['Sunglasses', 4.72, 3.93, 198.0],\n",
    "    ['Loudly Crying', 24.7, 1.35, 654.0],\n",
    "    ['Kiss Mark', 21.7, 2.87, 98.7],\n",
    "    ['Two Hearts', 10.0, 5.69, 445.0],\n",
    "    ['Heart', 118.0, 26.0, 1080.0],\n",
    "    ['Heart Suit', 3.31, 1.82, 697.0],\n",
    "    ['Thumbs Up', 23.1, 3.75, 227.0],\n",
    "    ['Shrugging', 1.74, 0.11, 0.0],\n",
    "    ['Fire', 4.5, 2.49, 150.0],\n",
    "    ['Recycle', 0.0333, 0.056, 932.0]\n",
    "]\n",
    "\n",
    "data.sort(key=lambda row: row[1], reverse=True)\n",
    "\n",
    "# we left just the column that we sorted by\n",
    "print('Emoji name       | EmojiXpress, mil.')\n",
    "print('-----------------------------------')\n",
    "for row in data[:5]:\n",
    "    print('{: <16} | {: >16.2f}'.format(row[0], row[1]))\n",
    "print()\n",
    "print()\n",
    "    \n",
    "data.sort(key=lambda row: row[2], reverse=True)\n",
    "\n",
    "# we left just the column that we sorted by\n",
    "print('Emoji name       | Instagram, mil.')\n",
    "print('---------------------------------')\n",
    "for row in data[:5]:\n",
    "    print('{: <16} | {: >14.2f}'.format(row[0], row[2]))\n",
    "print()\n",
    "print()\n",
    "    \n",
    "data.sort(key=lambda row: row[3], reverse=True)\n",
    "\n",
    "# we left just the column that we sorted by\n",
    "print('Emoji name       | Twitter, mil.')\n",
    "print('-------------------------------')\n",
    "for row in data[:5]:\n",
    "    print('{: <16} | {: >12.2f}'.format(row[0], row[3]))\n",
    "print()\n",
    "print()"
   ]
  },
  {
   "cell_type": "code",
   "execution_count": 18,
   "metadata": {},
   "outputs": [
    {
     "name": "stdout",
     "output_type": "stream",
     "text": [
      "[2260000, 19100000, 25600000, 233000000, 15200000, 22700000, 64599999, 87500000, 6810000, 6000000, 4720000, 24700000, 21700000, 10000000, 118000000, 3310000, 23100000, 1740000, 4500000, 33300]\n",
      "33300\n"
     ]
    }
   ],
   "source": [
    "emojixpress = [\n",
    "    2.26, 19.1, 25.6, 233.0, 15.2, 22.7, 64.6, 87.5, 6.81, 6.0,\n",
    "    4.72, 24.7, 21.7, 10.0, 118.0, 3.31, 23.1, 1.74, 4.5, 0.0333\n",
    "]\n",
    "\n",
    "# < write code here >\n",
    "for i in range(len(emojixpress)):\n",
    "    total= 0\n",
    "    emojixpress[i] = int(emojixpress[i] * 1000000)\n",
    "    total += emojixpress[i]\n",
    "print(emojixpress)\n",
    "print(total)"
   ]
  },
  {
   "cell_type": "code",
   "execution_count": 14,
   "metadata": {},
   "outputs": [
    {
     "name": "stdout",
     "output_type": "stream",
     "text": [
      "Emoji name       | Total usage, mil.\n",
      "-----------------------------------------------\n",
      "Tears of Joy     |                      2510.31\n",
      "Heart            |                      1224.00\n",
      "Recycle          |                       932.09\n",
      "Heart Eyes       |                       909.80\n",
      "Heart Suit       |                       702.13\n"
     ]
    }
   ],
   "source": [
    "data = [\n",
    "    ['Grinning', 2.26, 1.02, 87.3],\n",
    "    ['Beaming', 19.1, 1.69, 150.0],\n",
    "    ['ROFL', 25.6, 0.774, 0.0],\n",
    "    ['Tears of Joy', 233.0, 7.31, 2270.0],\n",
    "    ['Winking', 15.2, 2.36, 264.0],\n",
    "    ['Happy', 22.7, 4.26, 565.0],\n",
    "    ['Heart Eyes', 64.6, 11.2, 834.0],\n",
    "    ['Kissing', 87.5, 5.13, 432.0],\n",
    "    ['Thinking', 6.81, 0.636, 0.0],\n",
    "    ['Unamused', 6.0, 0.236, 478.0],\n",
    "    ['Sunglasses', 4.72, 3.93, 198.0],\n",
    "    ['Loudly Crying', 24.7, 1.35, 654.0],\n",
    "    ['Kiss Mark', 21.7, 2.87, 98.7],\n",
    "    ['Two Hearts', 10.0, 5.69, 445.0],\n",
    "    ['Heart', 118.0, 26.0, 1080.0],\n",
    "    ['Heart Suit', 3.31, 1.82, 697.0],\n",
    "    ['Thumbs Up', 23.1, 3.75, 227.0],\n",
    "    ['Shrugging', 1.74, 0.11, 0.0],\n",
    "    ['Fire', 4.5, 2.49, 150.0],\n",
    "    ['Recycle', 0.0333, 0.056, 932.0]\n",
    "]\n",
    "\n",
    "# < write code here >\n",
    "totals = 0\n",
    "for i in range(len(data)):\n",
    "    totals = data[i][1] + data[i][2] + data[i][3]\n",
    "    data[i].append(totals)\n",
    "\n",
    "data.sort(key = lambda row: row[4], reverse=True)\n",
    "    \n",
    "print(\"Emoji name       | Total usage, mil.\")\n",
    "print('-----------------------------------------------')\n",
    "for row in data[:5]:\n",
    "    print('{: <16} | {: >28.2f}'.format(row[0], row[4]))"
   ]
  },
  {
   "cell_type": "code",
   "execution_count": 16,
   "metadata": {},
   "outputs": [
    {
     "name": "stdout",
     "output_type": "stream",
     "text": [
      "0.087\n",
      "Mean for EmojiXpress: 0.09\n",
      "Mean for Instagram: 0.01\n",
      "Mean for Twitter: 0.00\n"
     ]
    }
   ],
   "source": [
    "for each in data:\n",
    "    total_emojixpress = 0\n",
    "    total_emojixpress += each[1]\n",
    "    emojixpress_mean = total_emojixpress / len(data)\n",
    "\n",
    "print(emojixpress_mean)\n",
    "\n",
    "for each in data:\n",
    "    total_instagram = 0\n",
    "    total_instagram += each[2]\n",
    "    instagram_mean = total_instagram / len(data)\n",
    "    \n",
    "for each in data:\n",
    "    total_twitter = 0\n",
    "    total_twitter += each[3]\n",
    "    twitter_mean = total_twitter / len(data)\n",
    "\n",
    "print('Mean for EmojiXpress: {:.2f}'.format(emojixpress_mean))\n",
    "print('Mean for Instagram: {:.2f}'.format(instagram_mean))\n",
    "print('Mean for Twitter: {:.2f}'.format(twitter_mean))"
   ]
  },
  {
   "cell_type": "code",
   "execution_count": 19,
   "metadata": {},
   "outputs": [
    {
     "name": "stdout",
     "output_type": "stream",
     "text": [
      "Mean for EmojiXpress: 34.73\n",
      "Mean for Instagram: 4.13\n",
      "Mean for Twitter: 478.10\n"
     ]
    }
   ],
   "source": [
    "data = [\n",
    "    ['Grinning', 2.26, 1.02, 87.3],\n",
    "    ['Beaming', 19.1, 1.69, 150.0],\n",
    "    ['ROFL', 25.6, 0.774, 0.0],\n",
    "    ['Tears of Joy', 233.0, 7.31, 2270.0],\n",
    "    ['Winking', 15.2, 2.36, 264.0],\n",
    "    ['Happy', 22.7, 4.26, 565.0],\n",
    "    ['Heart Eyes', 64.6, 11.2, 834.0],\n",
    "    ['Kissing', 87.5, 5.13, 432.0],\n",
    "    ['Thinking', 6.81, 0.636, 0.0],\n",
    "    ['Unamused', 6.0, 0.236, 478.0],\n",
    "    ['Sunglasses', 4.72, 3.93, 198.0],\n",
    "    ['Loudly Crying', 24.7, 1.35, 654.0],\n",
    "    ['Kiss Mark', 21.7, 2.87, 98.7],\n",
    "    ['Two Hearts', 10.0, 5.69, 445.0],\n",
    "    ['Heart', 118.0, 26.0, 1080.0],\n",
    "    ['Heart Suit', 3.31, 1.82, 697.0],\n",
    "    ['Thumbs Up', 23.1, 3.75, 227.0],\n",
    "    ['Shrugging', 1.74, 0.11, 0.0],\n",
    "    ['Fire', 4.5, 2.49, 150.0],\n",
    "    ['Recycle', 0.0333, 0.056, 932.0]\n",
    "]\n",
    "\n",
    "# < write code here >\n",
    "total_emojixpress = 0\n",
    "for i in range(len(data)):\n",
    "    total_emojixpress += data[i][1]\n",
    "    emojixpress_mean = total_emojixpress / len(data)\n",
    "\n",
    "total_instagram = 0\n",
    "for each in data:\n",
    "    total_instagram += each[2]\n",
    "    instagram_mean = total_instagram / len(data)\n",
    "\n",
    "total_twitter = 0\n",
    "for each in data:\n",
    "    total_twitter += each[3]\n",
    "    twitter_mean = total_twitter / len(data)\n",
    "\n",
    "print('Mean for EmojiXpress: {:.2f}'.format(emojixpress_mean))\n",
    "print('Mean for Instagram: {:.2f}'.format(instagram_mean))\n",
    "print('Mean for Twitter: {:.2f}'.format(twitter_mean))"
   ]
  },
  {
   "cell_type": "code",
   "execution_count": 20,
   "metadata": {
    "scrolled": false
   },
   "outputs": [
    {
     "name": "stdout",
     "output_type": "stream",
     "text": [
      "Emoji name       | Usage index\n",
      "---------------------------------------\n",
      "Grinning         |                 0.49\n",
      "Beaming          |                 1.27\n",
      "ROFL             |                 0.92\n",
      "Tears of Joy     |                13.23\n",
      "Winking          |                 1.56\n",
      "Happy            |                 2.87\n",
      "Heart Eyes       |                 6.31\n",
      "Kissing          |                 4.66\n",
      "Thinking         |                 0.35\n",
      "Unamused         |                 1.23\n",
      "Sunglasses       |                 1.50\n",
      "Loudly Crying    |                 2.41\n",
      "Kiss Mark        |                 1.53\n",
      "Two Hearts       |                 2.60\n",
      "Heart            |                11.95\n",
      "Heart Suit       |                 1.99\n",
      "Thumbs Up        |                 2.05\n",
      "Shrugging        |                 0.08\n",
      "Fire             |                 1.05\n",
      "Recycle          |                 1.96\n"
     ]
    }
   ],
   "source": [
    "data = [\n",
    "    ['Grinning', 2.26, 1.02, 87.3],\n",
    "    ['Beaming', 19.1, 1.69, 150.0],\n",
    "    ['ROFL', 25.6, 0.774, 0.0],\n",
    "    ['Tears of Joy', 233.0, 7.31, 2270.0],\n",
    "    ['Winking', 15.2, 2.36, 264.0],\n",
    "    ['Happy', 22.7, 4.26, 565.0],\n",
    "    ['Heart Eyes', 64.6, 11.2, 834.0],\n",
    "    ['Kissing', 87.5, 5.13, 432.0],\n",
    "    ['Thinking', 6.81, 0.636, 0.0],\n",
    "    ['Unamused', 6.0, 0.236, 478.0],\n",
    "    ['Sunglasses', 4.72, 3.93, 198.0],\n",
    "    ['Loudly Crying', 24.7, 1.35, 654.0],\n",
    "    ['Kiss Mark', 21.7, 2.87, 98.7],\n",
    "    ['Two Hearts', 10.0, 5.69, 445.0],\n",
    "    ['Heart', 118.0, 26.0, 1080.0],\n",
    "    ['Heart Suit', 3.31, 1.82, 697.0],\n",
    "    ['Thumbs Up', 23.1, 3.75, 227.0],\n",
    "    ['Shrugging', 1.74, 0.11, 0.0],\n",
    "    ['Fire', 4.5, 2.49, 150.0],\n",
    "    ['Recycle', 0.0333, 0.056, 932.0]\n",
    "]\n",
    "\n",
    "emojixpress_sum = 0\n",
    "instagram_sum = 0\n",
    "twitter_sum = 0\n",
    "for row in data:\n",
    "    emojixpress_sum += row[1]\n",
    "    instagram_sum += row[2]\n",
    "    twitter_sum += row[3]\n",
    "    \n",
    "emojixpress_mean = emojixpress_sum / len(data)\n",
    "instagram_mean = instagram_sum / len(data)\n",
    "twitter_mean = twitter_sum / len(data)\n",
    "\n",
    "# < write code here >\n",
    "for i in range(len(data)):\n",
    "    index_1 = data[i][1] / emojixpress_mean\n",
    "    index_2 = data[i][2] / instagram_mean\n",
    "    index_3 = data[i][3] / twitter_mean\n",
    "    indices = index_1 + index_2 + index_3\n",
    "    data[i].append(indices)\n",
    "\n",
    "print(\"Emoji name       | Usage index\")\n",
    "print('---------------------------------------')\n",
    "for row in data:\n",
    "    print('{: <16} | {: >20.2f}'.format(row[0], row[4]))"
   ]
  },
  {
   "cell_type": "code",
   "execution_count": null,
   "metadata": {},
   "outputs": [],
   "source": []
  }
 ],
 "metadata": {
  "kernelspec": {
   "display_name": "Python 3",
   "language": "python",
   "name": "python3"
  },
  "language_info": {
   "codemirror_mode": {
    "name": "ipython",
    "version": 3
   },
   "file_extension": ".py",
   "mimetype": "text/x-python",
   "name": "python",
   "nbconvert_exporter": "python",
   "pygments_lexer": "ipython3",
   "version": "3.7.3"
  }
 },
 "nbformat": 4,
 "nbformat_minor": 2
}
