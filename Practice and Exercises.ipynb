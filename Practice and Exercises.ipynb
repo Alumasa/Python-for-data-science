{
 "cells": [
  {
   "cell_type": "code",
   "execution_count": 8,
   "metadata": {},
   "outputs": [
    {
     "name": "stdout",
     "output_type": "stream",
     "text": [
      "<generator object to_upper at 0x000001A597497930>\n",
      "['THOR', 'HULK']\n"
     ]
    }
   ],
   "source": [
    "superhero_list = [\"Thor\", \"Hulk\"]\n",
    "def to_upper(x):\n",
    "    for i in x:\n",
    "        yield i.upper()\n",
    "# the yield key word returns a generator object\n",
    "print(to_upper(superhero_list))\n",
    "print(list(to_upper(superhero_list)))\n"
   ]
  },
  {
   "cell_type": "code",
   "execution_count": 9,
   "metadata": {},
   "outputs": [
    {
     "ename": "TypeError",
     "evalue": "'int' object is not iterable",
     "output_type": "error",
     "traceback": [
      "\u001b[1;31m---------------------------------------------------------------------------\u001b[0m",
      "\u001b[1;31mTypeError\u001b[0m                                 Traceback (most recent call last)",
      "\u001b[1;32m<ipython-input-9-90f1a535a165>\u001b[0m in \u001b[0;36m<module>\u001b[1;34m\u001b[0m\n\u001b[0;32m      1\u001b[0m \u001b[0mx\u001b[0m \u001b[1;33m=\u001b[0m \u001b[1;36m123\u001b[0m\u001b[1;33m\u001b[0m\u001b[1;33m\u001b[0m\u001b[0m\n\u001b[1;32m----> 2\u001b[1;33m \u001b[0mprint\u001b[0m\u001b[1;33m(\u001b[0m\u001b[1;33m[\u001b[0m\u001b[0my\u001b[0m \u001b[1;33m*\u001b[0m \u001b[1;36m2\u001b[0m \u001b[1;32mfor\u001b[0m \u001b[0my\u001b[0m \u001b[1;32min\u001b[0m \u001b[0mx\u001b[0m\u001b[1;33m]\u001b[0m\u001b[1;33m)\u001b[0m\u001b[1;33m\u001b[0m\u001b[1;33m\u001b[0m\u001b[0m\n\u001b[0m",
      "\u001b[1;31mTypeError\u001b[0m: 'int' object is not iterable"
     ]
    }
   ],
   "source": [
    "x = 123\n",
    "print([y * 2 for y in x])\n",
    "# x is an integer\n",
    "#TypeError"
   ]
  },
  {
   "cell_type": "code",
   "execution_count": 20,
   "metadata": {},
   "outputs": [
    {
     "name": "stdout",
     "output_type": "stream",
     "text": [
      "{2: 4, 4: 16, 1: 1, 5: 25}\n"
     ]
    }
   ],
   "source": [
    "x = [2, 4, 1, 5]\n",
    "#x.sort()\n",
    "#print(x)\n",
    "squares = {y: y ** 2 for y in x}\n",
    "print(squares)\n",
    "#dictionaries are inherently unordered"
   ]
  },
  {
   "cell_type": "code",
   "execution_count": 29,
   "metadata": {},
   "outputs": [
    {
     "name": "stdout",
     "output_type": "stream",
     "text": [
      "[(2, 'Thor Odison'), (3, 'Steve Rodgers')]\n"
     ]
    }
   ],
   "source": [
    "names = [\"Thor Odison\", \"Steve Rodgers\"]\n",
    "avengers = enumerate(names, start = 2)\n",
    "print(list(avengers))"
   ]
  },
  {
   "cell_type": "code",
   "execution_count": null,
   "metadata": {},
   "outputs": [],
   "source": [
    "df = data.parse(1, parse_cols = [0], skiprows = \"0\", names = ['Country'])\n",
    "print(df.head())\n"
   ]
  },
  {
   "cell_type": "code",
   "execution_count": null,
   "metadata": {},
   "outputs": [],
   "source": [
    "#A MATLAB structure: keys are equivalent to MATLAB variable names, values are equivalent to objects assigned to variables"
   ]
  },
  {
   "cell_type": "code",
   "execution_count": null,
   "metadata": {},
   "outputs": [],
   "source": [
    "#np.loadtxt(filename, delimiter = ',') is the least suitable when importing a flatfile containing different data types"
   ]
  },
  {
   "cell_type": "code",
   "execution_count": null,
   "metadata": {},
   "outputs": [],
   "source": [
    "s = pd.read_csv('stores.csv', header = None)\n",
    "print(s)"
   ]
  },
  {
   "cell_type": "code",
   "execution_count": null,
   "metadata": {},
   "outputs": [],
   "source": [
    "#to import SAS files, use:\n",
    "from sas7bdat import SAS7BDAT\n"
   ]
  },
  {
   "cell_type": "code",
   "execution_count": 1,
   "metadata": {},
   "outputs": [
    {
     "name": "stdout",
     "output_type": "stream",
     "text": [
      "❤️\n",
      "🔥\n",
      "🤷\n"
     ]
    }
   ],
   "source": [
    "heart = '❤️' \n",
    "fire = '🔥' \n",
    "shrug = '🤷'\n",
    "\n",
    "print(heart) \n",
    "print(fire) \n",
    "print(shrug)"
   ]
  },
  {
   "cell_type": "code",
   "execution_count": 2,
   "metadata": {},
   "outputs": [
    {
     "name": "stdout",
     "output_type": "stream",
     "text": [
      "Emoji share:\n",
      "0.1%\n",
      "1.1%\n",
      "1.5%\n",
      "13.5%\n",
      "0.9%\n",
      "1.3%\n",
      "3.8%\n",
      "5.1%\n",
      "0.4%\n",
      "0.3%\n",
      "\n",
      "Total emojis: 1.72 billion\n"
     ]
    }
   ],
   "source": [
    "emojixpress = [2.26, 19.1, 25.6, 233.0, 15.2, 22.7, 64.6, 87.5, 6.81, 6.0]\n",
    "\n",
    "# total of all emojis in millions\n",
    "\n",
    "emojixpress_total = 1720\n",
    "\n",
    "print(\"Emoji share:\") \n",
    "# < create loop using list emojixpress >\n",
    "for each in emojixpress:\n",
    "    part = each / emojixpress_total # < divide the quantity of a specific emoji by the total quantity of all emojis > \n",
    "    print('{:.1%}'.format(part)) # input the variable part in place of the ellipsis\n",
    "\n",
    "print()\n",
    "print('Total emojis: 1.72 billion')"
   ]
  },
  {
   "cell_type": "code",
   "execution_count": 3,
   "metadata": {},
   "outputs": [
    {
     "name": "stdout",
     "output_type": "stream",
     "text": [
      "Share of chosen emojis on Twitter: 39.0%\n"
     ]
    }
   ],
   "source": [
    "twitter = [ \n",
    "    87.3, 150, 0.0, 2270.0, 264.0, 565.0, 834.0, 432.0, 0.0, 478.0, \n",
    "    198.0, 654.0, 98.7, 445.0, 1080.0, 697.0, 227.0, 0.0, 150.0, 932.0\n",
    "] \n",
    "twitter_total = 24500\n",
    "\n",
    "# < write code here >\n",
    "selected_total = 0\n",
    "for count in twitter:\n",
    "    selected_total += count\n",
    "\n",
    "selected_part = selected_total / twitter_total# < write code here > \n",
    "print('Share of chosen emojis on Twitter: {:.1%}'.format(selected_part))"
   ]
  },
  {
   "cell_type": "code",
   "execution_count": 4,
   "metadata": {},
   "outputs": [
    {
     "name": "stdout",
     "output_type": "stream",
     "text": [
      "7.31\n"
     ]
    }
   ],
   "source": [
    "data = [\n",
    "    ['Grinning', 2.26, 1.02, 87.3], \n",
    "    ['Beaming', 19.1, 1.69, 150.0], \n",
    "    ['ROFL', 25.6, 0.774, 0.0], \n",
    "    ['Tears of Joy', 233.0, 7.31, 2270.0], \n",
    "    ['Winking', 15.2, 2.36, 264.0]\n",
    "]\n",
    "\n",
    "# < write code here >\n",
    "print(data[3][2])"
   ]
  },
  {
   "cell_type": "code",
   "execution_count": 5,
   "metadata": {},
   "outputs": [
    {
     "name": "stdout",
     "output_type": "stream",
     "text": [
      "— Mean values —\n",
      "\n",
      "EmojiXpress, mil. | Instagram, mil. | Twitter, mil.\n",
      "————————————————\n",
      "     34.73       |      4.13      |    478.10   \n"
     ]
    }
   ],
   "source": [
    "data = [ \n",
    "    ['Grinning', 2.26, 1.02, 87.3], \n",
    "    ['Beaming', 19.1, 1.69, 150.0], \n",
    "    ['ROFL', 25.6, 0.774, 0.0], \n",
    "    ['Tears of Joy', 233.0, 7.31, 2270.0], \n",
    "    ['Winking', 15.2, 2.36, 264.0], \n",
    "    ['Happy', 22.7, 4.26, 565.0], \n",
    "    ['Heart Eyes', 64.6, 11.2, 834.0], \n",
    "    ['Kissing', 87.5, 5.13, 432.0], \n",
    "    ['Thinking', 6.81, 0.636, 0.0], \n",
    "    ['Unamused', 6.0, 0.236, 478.0], \n",
    "    ['Sunglasses', 4.72, 3.93, 198.0], \n",
    "    ['Loudly Crying', 24.7, 1.35, 654.0], \n",
    "    ['Kiss Mark', 21.7, 2.87, 98.7], \n",
    "    ['Two Hearts', 10.0, 5.69, 445.0], \n",
    "    ['Heart', 118.0, 26.0, 1080.0], \n",
    "    ['Heart Suit', 3.31, 1.82, 697.0], \n",
    "    ['Thumbs Up', 23.1, 3.75, 227.0], \n",
    "    ['Shrugging', 1.74, 0.11, 0.0], \n",
    "    ['Fire', 4.5, 2.49, 150.0], \n",
    "    ['Recycle', 0.0333, 0.056, 932.0]\n",
    "]\n",
    "\n",
    "sum_emojixpress = 0 \n",
    "for row in data: \n",
    "    sum_emojixpress += row[1] \n",
    "    mean_emojixpress = sum_emojixpress / len(data)\n",
    "\n",
    "# < write code here >\n",
    "sum_instagram = 0 \n",
    "for row in data: \n",
    "    sum_instagram += row[2] \n",
    "mean_instagram = sum_instagram / len(data)\n",
    "    \n",
    "sum_twitter = 0 \n",
    "for row in data: \n",
    "    sum_twitter += row[3] \n",
    "mean_twitter = sum_twitter / len(data)\n",
    "\n",
    "print('— Mean values —') \n",
    "print() \n",
    "print('EmojiXpress, mil. | Instagram, mil. | Twitter, mil.') \n",
    "print('————————————————') \n",
    "# Pay attention to the formatting of the long string of code. Inside # parentheses in the function call you can place string breaks. \n",
    "print('{: ^16.2f} | {: ^14.2f} | {: ^12.2f}'.format( mean_emojixpress, mean_instagram, mean_twitter))\n"
   ]
  },
  {
   "cell_type": "code",
   "execution_count": 6,
   "metadata": {},
   "outputs": [
    {
     "name": "stdout",
     "output_type": "stream",
     "text": [
      "Emoji name | Twitter/Instagram ratio\n",
      "————————————————\n",
      "Grinning         |                         85.59\n",
      "Beaming          |                         88.76\n",
      "ROFL             |                          0.00\n",
      "Tears of Joy     |                        310.53\n",
      "Winking          |                        111.86\n",
      "Happy            |                        132.63\n",
      "Heart Eyes       |                         74.46\n",
      "Kissing          |                         84.21\n",
      "Thinking         |                          0.00\n",
      "Unamused         |                       2025.42\n",
      "Sunglasses       |                         50.38\n",
      "Loudly Crying    |                        484.44\n",
      "Kiss Mark        |                         34.39\n",
      "Two Hearts       |                         78.21\n",
      "Heart            |                         41.54\n",
      "Heart Suit       |                        382.97\n",
      "Thumbs Up        |                         60.53\n",
      "Shrugging        |                          0.00\n",
      "Fire             |                         60.24\n",
      "Recycle          |                      16642.86\n"
     ]
    }
   ],
   "source": [
    "data = [ \n",
    "    ['Grinning', 2.26, 1.02, 87.3], \n",
    "    ['Beaming', 19.1, 1.69, 150.0], \n",
    "    ['ROFL', 25.6, 0.774, 0.0], \n",
    "    ['Tears of Joy', 233.0, 7.31, 2270.0], \n",
    "    ['Winking', 15.2, 2.36, 264.0], \n",
    "    ['Happy', 22.7, 4.26, 565.0], \n",
    "    ['Heart Eyes', 64.6, 11.2, 834.0], \n",
    "    ['Kissing', 87.5, 5.13, 432.0], \n",
    "    ['Thinking', 6.81, 0.636, 0.0], \n",
    "    ['Unamused', 6.0, 0.236, 478.0], \n",
    "    ['Sunglasses', 4.72, 3.93, 198.0], \n",
    "    ['Loudly Crying', 24.7, 1.35, 654.0], \n",
    "    ['Kiss Mark', 21.7, 2.87, 98.7], \n",
    "    ['Two Hearts', 10.0, 5.69, 445.0], \n",
    "    ['Heart', 118.0, 26.0, 1080.0], \n",
    "    ['Heart Suit', 3.31, 1.82, 697.0], \n",
    "    ['Thumbs Up', 23.1, 3.75, 227.0], \n",
    "    ['Shrugging', 1.74, 0.11, 0.0], \n",
    "    ['Fire', 4.5, 2.49, 150.0], \n",
    "    ['Recycle', 0.0333, 0.056, 932.0]\n",
    "]\n",
    "\n",
    "print('Emoji name | Twitter/Instagram ratio') \n",
    "print('————————————————') \n",
    "for row in data: \n",
    "    # < write code here >\n",
    "    ratio = row[3] / row[2]\n",
    "    print('{: <16} | {: >29.2f}'.format(row[0], ratio)) # write the code in place of the ellipsis"
   ]
  },
  {
   "cell_type": "code",
   "execution_count": null,
   "metadata": {},
   "outputs": [],
   "source": []
  }
 ],
 "metadata": {
  "kernelspec": {
   "display_name": "Python 3",
   "language": "python",
   "name": "python3"
  },
  "language_info": {
   "codemirror_mode": {
    "name": "ipython",
    "version": 3
   },
   "file_extension": ".py",
   "mimetype": "text/x-python",
   "name": "python",
   "nbconvert_exporter": "python",
   "pygments_lexer": "ipython3",
   "version": "3.7.3"
  }
 },
 "nbformat": 4,
 "nbformat_minor": 2
}
