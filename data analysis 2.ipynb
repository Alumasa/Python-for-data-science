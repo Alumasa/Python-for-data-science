{
 "cells": [
  {
   "cell_type": "code",
   "execution_count": null,
   "metadata": {},
   "outputs": [],
   "source": [
    "import pandas as pd\n",
    "df = pd.read_csv('/datasets/music_log_upd_en.csv')\n",
    "genre_grouping = df.groupby('user_id')\n",
    "genre_counting = df.groupby('user_id')['genre_name'].count()\n",
    "print(genre_counting.head(30))"
   ]
  },
  {
   "cell_type": "code",
   "execution_count": null,
   "metadata": {},
   "outputs": [],
   "source": [
    "import pandas as pd\n",
    "df = pd.read_csv('/datasets/music_log_upd_en.csv')\n",
    "\n",
    "def get_heavy_user(groups):\n",
    "    for group_name, group_data in groups:\n",
    "        if  len(group_data) > 50:\n",
    "            # if the length group_data is greater than 50, then\n",
    "            user = group_name# save the element group_name to the variable user\n",
    "            return user\n",
    "\n",
    "        \n",
    "user_id = get_heavy_user(genre_grouping)\n",
    "\n",
    "print(user_id)"
   ]
  },
  {
   "cell_type": "code",
   "execution_count": null,
   "metadata": {},
   "outputs": [],
   "source": [
    "music_user = df[(df['user_id'] == user_id) & (df['total_play_seconds'] > 0)]"
   ]
  },
  {
   "cell_type": "code",
   "execution_count": null,
   "metadata": {},
   "outputs": [],
   "source": [
    "sum_music_user = music_user.groupby('genre_name')['total_play_seconds'].sum()\n",
    "print(sum_music_user)count_music_user = music_user.groupby('genre_name')['genre_name'].count()\n"
   ]
  },
  {
   "cell_type": "code",
   "execution_count": null,
   "metadata": {},
   "outputs": [],
   "source": [
    "final_sum = sum_music_user.sort_values(ascending=False)\n",
    "final_count = count_music_user.sort_values(ascending=False)\n"
   ]
  },
  {
   "cell_type": "code",
   "execution_count": null,
   "metadata": {},
   "outputs": [],
   "source": [
    "pop_music = df[(df['genre_name'] == 'Pop') & (df['total_play_seconds'] != 0)]\n",
    "pop_music_max_total_play = pop_music['total_play_seconds'].max()\n",
    "pop_music_max_info = df[(df['genre_name'] == 'Pop') & (df['total_play_seconds'] == pop_music_max_total_play)]\n"
   ]
  },
  {
   "cell_type": "code",
   "execution_count": null,
   "metadata": {},
   "outputs": [],
   "source": [
    "pop_music_min_total_play = df[(df['genre_name'] == 'Pop') & (df['total_play_seconds'] == pop_music['total_play_seconds'].min())]\n",
    "pop_music_median = pop_music.median()\n",
    "pop_music_mean = pop_music.mean()"
   ]
  },
  {
   "cell_type": "code",
   "execution_count": null,
   "metadata": {},
   "outputs": [],
   "source": [
    "current_happiness = df.groupby('user_id').sum().median()\n",
    "print(current_happiness)"
   ]
  },
  {
   "cell_type": "code",
   "execution_count": null,
   "metadata": {},
   "outputs": [],
   "source": [
    "genre_rock = df[(df['genre_name'] == 'Rock') & (df['total_play_seconds'] != 0)] # <enter here the solution for finding missing data>\n",
    "genre_rock_max = genre_rock['total_play_seconds'].max() # maximum listening time in the rock genre\n",
    "genre_rock_min = genre_rock['total_play_seconds'].min() # minimum listening time in the rock genre\n",
    "print('The maximum listening time in the rock genre is: {}'.format(genre_rock_max))\n",
    "print('The minimum listening time in the rock genre is: {}'.format(genre_rock_min))\n"
   ]
  },
  {
   "cell_type": "code",
   "execution_count": 1,
   "metadata": {},
   "outputs": [
    {
     "name": "stdout",
     "output_type": "stream",
     "text": [
      "  genre_name  total_track  max_total_time  min_total_time\n",
      "0        Pop         5374      785.308264        0.007000\n",
      "1       Rock         2723      687.383000        0.000816\n"
     ]
    }
   ],
   "source": [
    "import pandas as pd\n",
    "\n",
    "data = [['Pop', 5374, 785.30826442, 0.007],\n",
    "        ['Rock', 2723, 687.383, 0.000816]]\n",
    "columns = ['genre_name', 'total_track', 'max_total_time', 'min_total_time']\n",
    "\n",
    "research_genres_result = pd.DataFrame(data=data, columns=columns)\n",
    "print(research_genres_result)"
   ]
  },
  {
   "cell_type": "code",
   "execution_count": null,
   "metadata": {},
   "outputs": [],
   "source": []
  }
 ],
 "metadata": {
  "kernelspec": {
   "display_name": "Python 3",
   "language": "python",
   "name": "python3"
  },
  "language_info": {
   "codemirror_mode": {
    "name": "ipython",
    "version": 3
   },
   "file_extension": ".py",
   "mimetype": "text/x-python",
   "name": "python",
   "nbconvert_exporter": "python",
   "pygments_lexer": "ipython3",
   "version": "3.7.3"
  }
 },
 "nbformat": 4,
 "nbformat_minor": 2
}
