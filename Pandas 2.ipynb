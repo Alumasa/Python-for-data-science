{
 "cells": [
  {
   "cell_type": "code",
   "execution_count": 1,
   "metadata": {},
   "outputs": [
    {
     "name": "stdout",
     "output_type": "stream",
     "text": [
      "    artist  track\n",
      "0    Nicki  Yikes\n",
      "1  Beyonce   Halo\n",
      "2   Justin   Baby\n",
      "3   Ariana  Rings\n",
      "4   Meghan   Nice\n"
     ]
    }
   ],
   "source": [
    "import pandas as pd\n",
    "\n",
    "# <write code here>\n",
    "music = [\n",
    "        ['Nicki', 'Yikes'],\n",
    "        ['Beyonce', 'Halo'],\n",
    "        ['Justin', 'Baby'],\n",
    "        ['Ariana', 'Rings'],\n",
    "        ['Meghan', 'Nice']\n",
    "]\n",
    "\n",
    "entries = ['artist', 'track']\n",
    "playlist = pd.DataFrame(data=music, columns=entries)\n",
    "print(playlist)"
   ]
  },
  {
   "cell_type": "code",
   "execution_count": null,
   "metadata": {},
   "outputs": [],
   "source": [
    "import pandas as pd\n",
    "df = pd.read_csv('music_log.csv') \n",
    "\n",
    "shape_table = df.shape\n",
    "\n",
    "observations_table = shape_table[0]# <write code here>\n",
    "print('Number of observations: {}'.format(observations_table))"
   ]
  },
  {
   "cell_type": "code",
   "execution_count": null,
   "metadata": {},
   "outputs": [],
   "source": [
    "import pandas as pd\n",
    "\n",
    "df = pd.read_csv('music_log.csv')\n",
    "genre_fight = pd.DataFrame(data=df, columns=['genre', 'Artist'])\n",
    "genre_pop = genre_fight[genre_fight['genre'] == 'pop']['genre'].count()\n",
    "print('The number of listens in the pop genre is', genre_pop)"
   ]
  },
  {
   "cell_type": "code",
   "execution_count": null,
   "metadata": {},
   "outputs": [],
   "source": [
    "import pandas as pd\n",
    "\n",
    "df = pd.read_csv('music_log.csv')\n",
    "genre_fight = pd.DataFrame(data=df, columns=['genre', 'Artist'])\n",
    "genre_pop = genre_fight[genre_fight['genre'] == 'pop']['genre'].count()\n",
    "print('The number of listens in the pop genre is', genre_pop)\n",
    "\n",
    "genre_rock = genre_fight[genre_fight['genre'] == 'rock']['genre'].count()\n",
    "print('The number of listens in the rock genre is', genre_rock)\n",
    "\n",
    "if genre_rock > genre_pop:\n",
    "    print('Rock wins!')\n",
    "else:\n",
    "    print('Pop forever!')"
   ]
  },
  {
   "cell_type": "code",
   "execution_count": null,
   "metadata": {},
   "outputs": [],
   "source": [
    "import pandas as pd\n",
    "\n",
    "df = pd.read_csv('music_log.csv')\n",
    "\n",
    "# <write code here>\n",
    "rock = df[df['genre'] == 'rock']\n",
    "rock_time = rock.loc[:,'total play']\n",
    "rock_haters = rock_time.loc[rock_time <= 5].count()\n",
    "#print('The number of rock tracks skipped is', rock_haters)\n",
    "\n",
    "pop = df[df['genre'] == 'pop']\n",
    "pop_time = pop.loc[:, 'total play']\n",
    "pop_haters = pop_time.loc[pop_time <= 5].count()\n",
    "#print('The number of pop tracks skipped is', pop_haters)\n",
    "\n",
    "rock_skip = rock_haters / len(rock) \n",
    "pop_skip = pop_haters / len(pop)\n",
    "\n",
    "print('Percentage of rock tracks skipped: {:.1%}'.format(rock_skip))\n",
    "print('Percentage of pop tracks skipped: {:.1%}'.format(pop_skip))"
   ]
  },
  {
   "cell_type": "code",
   "execution_count": null,
   "metadata": {},
   "outputs": [],
   "source": []
  }
 ],
 "metadata": {
  "kernelspec": {
   "display_name": "Python 3",
   "language": "python",
   "name": "python3"
  },
  "language_info": {
   "codemirror_mode": {
    "name": "ipython",
    "version": 3
   },
   "file_extension": ".py",
   "mimetype": "text/x-python",
   "name": "python",
   "nbconvert_exporter": "python",
   "pygments_lexer": "ipython3",
   "version": "3.7.3"
  }
 },
 "nbformat": 4,
 "nbformat_minor": 2
}
