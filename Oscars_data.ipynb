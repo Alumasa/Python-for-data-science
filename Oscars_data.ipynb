{
 "cells": [
  {
   "cell_type": "code",
   "execution_count": 1,
   "metadata": {},
   "outputs": [
    {
     "name": "stdout",
     "output_type": "stream",
     "text": [
      "Titanic\n",
      "Budget: 180.00 mil. €\n",
      "\n",
      "Gladiator\n",
      "Budget: 92.70 mil. €\n"
     ]
    }
   ],
   "source": [
    "# Save the conversion rate as variable euros_for_dollar\n",
    "\n",
    "euros_for_dollar = 0.90\n",
    "\n",
    "# < write code here >\n",
    "def print_budget_in_euros(dollar):\n",
    "    dollar_to_euros = dollar * euros_for_dollar\n",
    "    print('Budget: {:.2f} mil. €'.format(dollar_to_euros))\n",
    "\n",
    "print('Titanic') \n",
    "print_budget_in_euros(200.0) \n",
    "print() \n",
    "print('Gladiator') \n",
    "print_budget_in_euros(103.0)"
   ]
  },
  {
   "cell_type": "code",
   "execution_count": 2,
   "metadata": {},
   "outputs": [
    {
     "name": "stdout",
     "output_type": "stream",
     "text": [
      "# Highest rating\n",
      "\n",
      "Title                            | Year  | Rating | Length | Budget | Box office gross  |\n",
      "--------------------------------------------------------------------------------\n",
      "Forrest Gump                        | 1994 |    8.91 |   142 |   55.0 |  677.4 |\n",
      "Schindler's List                    | 1993 |    8.82 |   195 |   22.0 |  321.3 |\n",
      "The Lord of the Rings: Return of the King | 2003 |    8.62 |   201 |   94.0 | 1119.1 |\n",
      "Gladiator                           | 2000 |    8.59 |   155 |  103.0 |  457.6 |\n",
      "A Beautiful Mind                    | 2001 |    8.56 |   135 |   58.0 |  313.5 |\n",
      "\n",
      "\n",
      "# Largest budget\n",
      "\n",
      "Title                            | Year  | Rating | Length | Budget | Box office gross  |\n",
      "--------------------------------------------------------------------------------\n",
      "Titanic                             | 1997 |    8.37 |   194 |  200.0 | 2185.4 |\n",
      "Gladiator                           | 2000 |    8.59 |   155 |  103.0 |  457.6 |\n",
      "The Lord of the Rings: Return of the King | 2003 |    8.62 |   201 |   94.0 | 1119.1 |\n",
      "The Departed                        | 2006 |    8.46 |   151 |   90.0 |  289.8 |\n",
      "Braveheart                          | 1995 |    8.28 |   178 |   72.0 |  210.4 |\n",
      "\n",
      "\n",
      "# Highest box office gross\n",
      "\n",
      "Title                            | Year  | Rating | Length | Budget | Box office gross  |\n",
      "--------------------------------------------------------------------------------\n",
      "Titanic                             | 1997 |    8.37 |   194 |  200.0 | 2185.4 |\n",
      "The Lord of the Rings: Return of the King | 2003 |    8.62 |   201 |   94.0 | 1119.1 |\n",
      "Forrest Gump                        | 1994 |    8.91 |   142 |   55.0 |  677.4 |\n",
      "Gladiator                           | 2000 |    8.59 |   155 |  103.0 |  457.6 |\n",
      "Dances with Wolves                  | 1990 |    8.11 |   181 |   22.0 |  424.2 |\n",
      "\n",
      "\n",
      "# Maximum length\n",
      "\n",
      "Title                            | Year  | Rating | Length | Budget | Box office gross  |\n",
      "--------------------------------------------------------------------------------\n",
      "The Lord of the Rings: Return of the King | 2003 |    8.62 |   201 |   94.0 | 1119.1 |\n",
      "Schindler's List                    | 1993 |    8.82 |   195 |   22.0 |  321.3 |\n",
      "Titanic                             | 1997 |    8.37 |   194 |  200.0 | 2185.4 |\n",
      "Dances with Wolves                  | 1990 |    8.11 |   181 |   22.0 |  424.2 |\n",
      "Braveheart                          | 1995 |    8.28 |   178 |   72.0 |  210.4 |\n",
      "\n",
      "\n",
      "# Minimum length\n",
      "\n",
      "Title                            | Year  | Rating | Length | Budget | Box office gross  |\n",
      "--------------------------------------------------------------------------------\n",
      "The Artist                          | 2011 |    7.94 |    96 |   15.0 |  133.4 |\n",
      "Driving Miss Daisy                  | 1989 |    7.64 |    99 |    7.5 |  145.8 |\n",
      "Crash                               | 2004 |    7.90 |   108 |    6.5 |   98.4 |\n",
      "Moonlight                           | 2016 |    6.15 |   110 |    1.5 |   65.0 |\n",
      "Chicago                             | 2002 |    7.67 |   113 |   45.0 |  306.8 |\n",
      "\n",
      "\n"
     ]
    }
   ],
   "source": [
    "oscar_data = [\n",
    "    [\"The Shape of Water\", 2017, 6.914, 123, ['sci-fi', 'drama'], 19.4, 195.243464],\n",
    "    [\"Moonlight\", 2016, 6.151, 110, ['drama'], 1.5, 65.046687],\n",
    "    [\"Spotlight\", 2015, 7.489, 129, ['drama', 'crime', 'history'], 20.0, 88.346473],\n",
    "    [\"Birdman\", 2014, 7.604, 119, ['drama', 'comedy'], 18.0, 103.215094],\n",
    "    [\"12 Years a Slave\", 2013, 7.71, 133, ['drama', 'biography', 'history'], 20.0, 178.371993],\n",
    "    [\"Argo\", 2012, 7.517, 120, ['thriller', 'drama', 'biography'], 44.5, 232.324128],\n",
    "    [\"The Artist\", 2011, 7.942, 96, ['drama', 'melodrama', 'comedy'], 15.0, 133.432856],\n",
    "    [\"The King\\'s Speech\", 2010, 7.977, 118, ['drama', 'biography', 'history'], 15.0, 414.211549],\n",
    "    [\"The Hurt Locker\", 2008, 7.298, 126, ['thriller', 'drama', 'war', 'history'], 15.0, 49.230772],\n",
    "    [\"Slumdog Millionaire\", 2008, 7.724, 120, ['drama', 'melodrama'], 15.0, 377.910544],\n",
    "    [\"No Country for Old Men\", 2007, 7.726, 122, ['thriller', 'drama', 'crime'], 25.0, 171.627166],\n",
    "    [\"The Departed\", 2006, 8.456, 151, ['thriller', 'drama', 'crime'], 90.0, 289.847354],\n",
    "    [\"Crash\", 2004, 7.896, 108, ['thriller', 'drama', 'crime'], 6.5, 98.410061],\n",
    "    [\"Million Dollar Baby\", 2004, 8.075, 132, ['drama', 'sport'], 30.0, 216.763646],\n",
    "    [\"The Lord of the Rings: Return of the King\", 2003, 8.617, 201, ['fantasy', 'drama', 'adventure'], 94.0, 1119.110941],\n",
    "    [\"Chicago\", 2002, 7.669, 113, ['musical', 'comedy', 'crime'], 45.0, 306.776732],\n",
    "    ['A Beautiful Mind', 2001, 8.557, 135, ['drama', 'biography', 'melodrama'], 58.0, 313.542341],\n",
    "    [\"Gladiator\", 2000, 8.585, 155, ['action', 'drama', 'adventure'], 103.0, 457.640427],\n",
    "    [\"American Beauty\", 1999, 7.965, 122, ['drama'], 15.0, 356.296601],\n",
    "    [\"Shakespeare in Love\", 1998, 7.452, 123, ['drama', 'melodrama', 'comedy', 'history'], 25.0, 289.317794],\n",
    "    [\"Titanic\", 1997, 8.369, 194, ['drama', 'melodrama'], 200.0, 2185.372302],\n",
    "    [\"The English Patient\", 1996, 7.849, 155, ['drama', 'melodrama', 'war'], 27.0, 231.976425],\n",
    "    [\"Braveheart\", 1995, 8.283, 178, ['drama', 'war', 'biography', 'history'], 72.0, 210.409945],\n",
    "    [\"Forrest Gump\", 1994, 8.915, 142, ['drama', 'melodrama'], 55.0, 677.386686],\n",
    "    [\"Schindler\\'s List\", 1993, 8.819, 195, ['drama', 'biography', 'history'], 22.0, 321.265768],\n",
    "    [\"Unforgiven\", 1992, 7.858, 131, ['drama', 'western'], 14.4, 159.157447],\n",
    "    [\"Silence of the Lambs\", 1990, 8.335, 114, ['thriller', 'crime', 'mystery', 'drama', 'horror'], 19.0, 272.742922],\n",
    "    [\"Dances with Wolves\", 1990, 8.112, 181, ['drama', 'adventure', 'western'], 22.0, 424.208848],\n",
    "    [\"Driving Miss Daisy\", 1989, 7.645, 99, ['drama'], 7.5, 145.793296],\n",
    "    [\"Rain Man\", 1988, 8.25, 133, ['drama'], 25.0, 354.825435],\n",
    "]\n",
    "\n",
    "# update the function code\n",
    "\n",
    "def print_top5_by_column(data, column, reverse):\n",
    "    data.sort(key=lambda row: row[column], reverse=reverse)\n",
    "    print('Title                            | Year  | Rating | Length | Budget | Box office gross  |')\n",
    "    print('--------------------------------------------------------------------------------')\n",
    "    for row in data[:5]:\n",
    "        print('{: <35} | {} | {: >7.2f} | {: >5} | {: >6.1f} | {: >6.1f} |'.format(\n",
    "            row[0], row[1], row[2], row[3], row[5], row[6]))\n",
    "        \n",
    "\n",
    "# update the code for outputting the top values\n",
    "\n",
    "print('# Highest rating')\n",
    "print()\n",
    "print_top5_by_column(oscar_data, 2, True)\n",
    "print()\n",
    "print()\n",
    "\n",
    "print('# Largest budget')\n",
    "print()\n",
    "print_top5_by_column(oscar_data, 5, True)\n",
    "print()\n",
    "print()\n",
    "\n",
    "print('# Highest box office gross')\n",
    "print()\n",
    "print_top5_by_column(oscar_data, 6, True)\n",
    "print()\n",
    "print()\n",
    "\n",
    "print('# Maximum length')\n",
    "print()\n",
    "print_top5_by_column(oscar_data, 3, True)\n",
    "print()\n",
    "print()\n",
    "\n",
    "# add the output for the shortest films\n",
    "print('# Minimum length')\n",
    "print()\n",
    "# < write code here >\n",
    "print_top5_by_column(oscar_data, 3, False)\n",
    "print()\n",
    "print()"
   ]
  },
  {
   "cell_type": "code",
   "execution_count": 4,
   "metadata": {},
   "outputs": [
    {
     "name": "stdout",
     "output_type": "stream",
     "text": [
      "Average rating: 7.93\n",
      "Average length: 135.93\n",
      "Average budget: 37.96\n",
      "Average box office gross: 347.99\n"
     ]
    }
   ],
   "source": [
    "def print_mean(data, column):\n",
    "    # < write code here >\n",
    "    total = 0\n",
    "    for row in data:\n",
    "        total += row[column]\n",
    "        mean = total / len(data)\n",
    "    print('{:.2f}'.format(mean))\n",
    "    \n",
    "\n",
    "print('Average rating: ', end='')\n",
    "print_mean(oscar_data, 2)\n",
    "\n",
    "print('Average length: ', end='')\n",
    "print_mean(oscar_data, 3)\n",
    "\n",
    "print('Average budget: ', end='')\n",
    "print_mean(oscar_data, 5)\n",
    "\n",
    "print('Average box office gross: ', end='')\n",
    "print_mean(oscar_data, 6)\n"
   ]
  },
  {
   "cell_type": "code",
   "execution_count": 5,
   "metadata": {},
   "outputs": [
    {
     "name": "stdout",
     "output_type": "stream",
     "text": [
      "Total budget: $1138.80 mil.\n",
      "Total box office gross: $10439.81 mil.\n"
     ]
    }
   ],
   "source": [
    "def column_sum(data, column):\n",
    "    # < write code here >\n",
    "    total = 0\n",
    "    for each in data:\n",
    "        total += each[column]\n",
    "    return total\n",
    "\n",
    "\n",
    "# < write code here >\n",
    "total_budget = column_sum(oscar_data, 5)\n",
    "print('Total budget: ${:.2f} mil.'.format(total_budget))\n",
    "\n",
    "total_gross = column_sum(oscar_data, 6)\n",
    "print('Total box office gross: ${:.2f} mil.'.format(total_gross))"
   ]
  },
  {
   "cell_type": "code",
   "execution_count": 6,
   "metadata": {},
   "outputs": [
    {
     "name": "stdout",
     "output_type": "stream",
     "text": [
      "Every person spent an average of $1.38 on Oscar-winning films.\n"
     ]
    }
   ],
   "source": [
    "total_people = 7539\n",
    "\n",
    "# < write code here >\n",
    "total_boxoffice_gross = column_sum(oscar_data, 6)\n",
    "ticket_cost = total_boxoffice_gross / total_people\n",
    "print('Every person spent an average of ${:.2f} on Oscar-winning films.'.format(ticket_cost))"
   ]
  },
  {
   "cell_type": "code",
   "execution_count": 7,
   "metadata": {},
   "outputs": [
    {
     "name": "stdout",
     "output_type": "stream",
     "text": [
      "Average rating: 7.93\n",
      "Average length: 135.93 min.\n",
      "Average budget: $37.96 mil.\n",
      "Average revenue: $347.99 mil.\n"
     ]
    }
   ],
   "source": [
    "def column_sum(data, column):\n",
    "    result = 0\n",
    "    for row in data:\n",
    "        result += row[column]\n",
    "    return result\n",
    "\n",
    "def column_mean(data, column):\n",
    "    # < write code here >\n",
    "    for each in data:\n",
    "        total = column_sum(data, column)\n",
    "        mean= total / len(data)\n",
    "    return mean\n",
    "    \n",
    "\n",
    "mean_score = column_mean(oscar_data, 2)\n",
    "print('Average rating: {:.2f}'.format(mean_score))\n",
    "\n",
    "mean_length = column_mean(oscar_data, 3)\n",
    "print('Average length: {:.2f} min.'.format(mean_length))\n",
    "\n",
    "mean_budget = column_mean(oscar_data, 5)\n",
    "print('Average budget: ${:.2f} mil.'.format(mean_budget))\n",
    "\n",
    "mean_gross = column_mean(oscar_data, 6)\n",
    "print('Average revenue: ${:.2f} mil.'.format(mean_gross))\n"
   ]
  },
  {
   "cell_type": "code",
   "execution_count": 8,
   "metadata": {},
   "outputs": [
    {
     "name": "stdout",
     "output_type": "stream",
     "text": [
      "\"The Shape of Water\" length: 2.05 hrs.\n"
     ]
    }
   ],
   "source": [
    "# create the constant MINUTES_IN_HOUR\n",
    "# < write code here >\n",
    "MINUTES_IN_HOUR = 60\n",
    "\n",
    "def minutes_to_hours(minutes):\n",
    "    # < write code here >\n",
    "    hours = minutes / MINUTES_IN_HOUR\n",
    "    return hours\n",
    "\n",
    "print('\"The Shape of Water\" length: {:.2f} hrs.'.format(minutes_to_hours(123)))"
   ]
  },
  {
   "cell_type": "code",
   "execution_count": 9,
   "metadata": {},
   "outputs": [
    {
     "name": "stdout",
     "output_type": "stream",
     "text": [
      "Title                            | Cost per minute, mil. $ |\n",
      "-------------------------------------------------------------\n",
      "Titanic                             |                  1.03 |\n",
      "Gladiator                           |                  0.66 |\n",
      "The Departed                        |                  0.60 |\n",
      "The Lord of the Rings: Return of the King |                  0.47 |\n",
      "A Beautiful Mind                    |                  0.43 |\n"
     ]
    }
   ],
   "source": [
    "def add_cost_per_minute(data):\n",
    "    # < write code here >\n",
    "    for i in range(len(data)):\n",
    "        budget = data[i][5]\n",
    "        length = data[i][3]\n",
    "        cost_per_minute = budget /length\n",
    "        data[i].append(cost_per_minute)\n",
    "\n",
    "\n",
    "add_cost_per_minute(oscar_data)\n",
    "\n",
    "# the new column's index is 7\n",
    "oscar_data.sort(key=lambda row: row[7], reverse=True)\n",
    "print('Title                            | Cost per minute, mil. $ |')\n",
    "print('-------------------------------------------------------------')\n",
    "for row in oscar_data[:5]:\n",
    "    print('{: <35} | {: >21.2f} |'.format(row[0], row[7]))\n"
   ]
  },
  {
   "cell_type": "code",
   "execution_count": 10,
   "metadata": {},
   "outputs": [
    {
     "name": "stdout",
     "output_type": "stream",
     "text": [
      "Title                            | Year  | Rating | Length | Budget | Box office gross  |\n",
      "--------------------------------------------------------------------------------\n",
      "The Lord of the Rings: Return of the King | 2003 |    8.62 |   201 |   94.0 | 1119.1 |\n",
      "Gladiator                           | 2000 |    8.59 |   155 |  103.0 |  457.6 |\n",
      "The King's Speech                   | 2010 |    7.98 |   118 |   15.0 |  414.2 |\n",
      "Slumdog Millionaire                 | 2008 |    7.72 |   120 |   15.0 |  377.9 |\n",
      "A Beautiful Mind                    | 2001 |    8.56 |   135 |   58.0 |  313.5 |\n"
     ]
    }
   ],
   "source": [
    "def filter_after(data, year_threshold):\n",
    "    result = []\n",
    "    for row in data:\n",
    "        year = row[1]\n",
    "        if year >= year_threshold:\n",
    "            result.append(row)\n",
    "    return result\n",
    "\n",
    "def print_top5_by_column(data, column, reverse):\n",
    "    data.sort(key=lambda row: row[column], reverse=reverse)\n",
    "    print('Title                            | Year  | Rating | Length | Budget | Box office gross  |')\n",
    "    print('--------------------------------------------------------------------------------')\n",
    "    for row in data[:5]:\n",
    "        print('{: <35} | {} | {: >7.2f} | {: >5} | {: >6.1f} | {: >6.1f} |'.format(\n",
    "            row[0], row[1], row[2], row[3], row[5], row[6]))\n",
    "\n",
    "# < write code here >\n",
    "filtered_data = filter_after(oscar_data, 2000)\n",
    "print_top5_by_column(filtered_data, 6, True)"
   ]
  },
  {
   "cell_type": "code",
   "execution_count": 11,
   "metadata": {},
   "outputs": [
    {
     "name": "stdout",
     "output_type": "stream",
     "text": [
      "Title                            | Year  | Rating | Length | Budget | Box office gross  |\n",
      "--------------------------------------------------------------------------------\n",
      "The King's Speech                   | 2010 |    7.98 |   118 |   15.0 |  414.2 |\n",
      "Slumdog Millionaire                 | 2008 |    7.72 |   120 |   15.0 |  377.9 |\n",
      "Chicago                             | 2002 |    7.67 |   113 |   45.0 |  306.8 |\n",
      "Silence of the Lambs                | 1990 |    8.34 |   114 |   19.0 |  272.7 |\n",
      "Argo                                | 2012 |    7.52 |   120 |   44.5 |  232.3 |\n"
     ]
    }
   ],
   "source": [
    "def filter_not_longer_than(data, length_threshold):\n",
    "    # < write code here >\n",
    "    result=[]\n",
    "    for row in data:\n",
    "        length = row[3]\n",
    "        if length <= length_threshold:\n",
    "            result.append(row)\n",
    "    return result\n",
    "\n",
    "def print_top5_by_column(data, column, reverse):\n",
    "    data.sort(key=lambda row: row[column], reverse=reverse)\n",
    "    print('Title                            | Year  | Rating | Length | Budget | Box office gross  |')\n",
    "    print('--------------------------------------------------------------------------------')\n",
    "    for row in data[:5]:\n",
    "        print('{: <35} | {} | {: >7.2f} | {: >5} | {: >6.1f} | {: >6.1f} |'.format(\n",
    "            row[0], row[1], row[2], row[3], row[5], row[6]))\n",
    "\n",
    "# < write code here >\n",
    "two_hour_films = filter_not_longer_than(oscar_data, 120)\n",
    "print_top5_by_column(two_hour_films, 6, True)"
   ]
  },
  {
   "cell_type": "code",
   "execution_count": null,
   "metadata": {},
   "outputs": [],
   "source": []
  }
 ],
 "metadata": {
  "kernelspec": {
   "display_name": "Python 3",
   "language": "python",
   "name": "python3"
  },
  "language_info": {
   "codemirror_mode": {
    "name": "ipython",
    "version": 3
   },
   "file_extension": ".py",
   "mimetype": "text/x-python",
   "name": "python",
   "nbconvert_exporter": "python",
   "pygments_lexer": "ipython3",
   "version": "3.7.3"
  }
 },
 "nbformat": 4,
 "nbformat_minor": 2
}
